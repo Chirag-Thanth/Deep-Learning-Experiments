{
  "nbformat": 4,
  "nbformat_minor": 0,
  "metadata": {
    "colab": {
      "provenance": []
    },
    "kernelspec": {
      "name": "python3",
      "display_name": "Python 3"
    },
    "language_info": {
      "name": "python"
    }
  },
  "cells": [
    {
      "cell_type": "code",
      "execution_count": 1,
      "metadata": {
        "id": "UrRyt5zOsg4H"
      },
      "outputs": [],
      "source": [
        "import keras\n",
        "from keras import layers\n",
        "from keras.datasets import mnist\n",
        "import numpy as np"
      ]
    },
    {
      "cell_type": "code",
      "source": [
        "(x_train, _),(x_test, _) = mnist.load_data()"
      ],
      "metadata": {
        "id": "LFZkSJU-s5bL",
        "colab": {
          "base_uri": "https://localhost:8080/"
        },
        "outputId": "c9a4515b-353e-479f-cf3e-68766831c2af"
      },
      "execution_count": 2,
      "outputs": [
        {
          "output_type": "stream",
          "name": "stdout",
          "text": [
            "Downloading data from https://storage.googleapis.com/tensorflow/tf-keras-datasets/mnist.npz\n",
            "11490434/11490434 [==============================] - 0s 0us/step\n"
          ]
        }
      ]
    },
    {
      "cell_type": "code",
      "source": [
        "x_train = x_train.astype('float32') / 255.0\n",
        "x_test = x_test.astype('float32') / 255.0\n",
        "x_train = x_train.reshape((len(x_train), np.prod(x_train.shape[1:])))\n",
        "x_test = x_test.reshape((len(x_test), np.prod(x_test.shape[1:])))\n",
        "print(x_train.shape)\n",
        "print(x_test.shape)"
      ],
      "metadata": {
        "colab": {
          "base_uri": "https://localhost:8080/"
        },
        "id": "el6GJW7TtFZ8",
        "outputId": "aad55aeb-8d89-4cda-c45d-2edca8778b2d"
      },
      "execution_count": 3,
      "outputs": [
        {
          "output_type": "stream",
          "name": "stdout",
          "text": [
            "(60000, 784)\n",
            "(10000, 784)\n"
          ]
        }
      ]
    },
    {
      "cell_type": "code",
      "source": [
        "encoding_dim = 32\n",
        "\n",
        "input_img = keras.Input(shape=(784,))\n",
        "\n",
        "encoded = layers.Dense(encoding_dim, activation='relu')(input_img)\n",
        "decoded = layers.Dense(784, activation='sigmoid')(encoded)\n",
        "\n",
        "autoencoder = keras.Model(input_img, decoded)"
      ],
      "metadata": {
        "id": "m5zEb8fNt9TJ"
      },
      "execution_count": 4,
      "outputs": []
    },
    {
      "cell_type": "code",
      "source": [
        "encoder = keras.Model(input_img, encoded)"
      ],
      "metadata": {
        "id": "RDo3G0WOwa1M"
      },
      "execution_count": 5,
      "outputs": []
    },
    {
      "cell_type": "code",
      "source": [
        "#This is our encoded (32-dimensional) input\n",
        "encoded_input = keras.Input(shape=(encoding_dim,))\n",
        "#Retrieve the last layer of the autoencoder model\n",
        "decoder_layer = autoencoder.layers[-1]\n",
        "#Create the decoder model\n",
        "decoder = keras.Model(encoded_input, decoder_layer(encoded_input))"
      ],
      "metadata": {
        "id": "aWvfy6N-wgwo"
      },
      "execution_count": 6,
      "outputs": []
    },
    {
      "cell_type": "code",
      "source": [
        "autoencoder.compile(optimizer='adam', loss='binary_crossentropy')"
      ],
      "metadata": {
        "id": "_1OgLxssxXGS"
      },
      "execution_count": 7,
      "outputs": []
    },
    {
      "cell_type": "code",
      "source": [
        "autoencoder.fit(x_train, x_train,\n",
        "                epochs=20,\n",
        "                batch_size=64,\n",
        "                shuffle=True,\n",
        "                validation_data=(x_test, x_test))"
      ],
      "metadata": {
        "colab": {
          "base_uri": "https://localhost:8080/"
        },
        "id": "LcM88B_Lxsvn",
        "outputId": "de8b8c59-5be4-46c1-f4ef-56b06791c8a5"
      },
      "execution_count": 8,
      "outputs": [
        {
          "output_type": "stream",
          "name": "stdout",
          "text": [
            "Epoch 1/20\n",
            "938/938 [==============================] - 5s 5ms/step - loss: 0.1912 - val_loss: 0.1329\n",
            "Epoch 2/20\n",
            "938/938 [==============================] - 6s 6ms/step - loss: 0.1191 - val_loss: 0.1069\n",
            "Epoch 3/20\n",
            "938/938 [==============================] - 6s 6ms/step - loss: 0.1026 - val_loss: 0.0972\n",
            "Epoch 4/20\n",
            "938/938 [==============================] - 4s 4ms/step - loss: 0.0968 - val_loss: 0.0944\n",
            "Epoch 5/20\n",
            "938/938 [==============================] - 3s 4ms/step - loss: 0.0952 - val_loss: 0.0937\n",
            "Epoch 6/20\n",
            "938/938 [==============================] - 3s 3ms/step - loss: 0.0946 - val_loss: 0.0933\n",
            "Epoch 7/20\n",
            "938/938 [==============================] - 3s 3ms/step - loss: 0.0943 - val_loss: 0.0928\n",
            "Epoch 8/20\n",
            "938/938 [==============================] - 3s 4ms/step - loss: 0.0941 - val_loss: 0.0926\n",
            "Epoch 9/20\n",
            "938/938 [==============================] - 3s 3ms/step - loss: 0.0939 - val_loss: 0.0926\n",
            "Epoch 10/20\n",
            "938/938 [==============================] - 3s 3ms/step - loss: 0.0938 - val_loss: 0.0924\n",
            "Epoch 11/20\n",
            "938/938 [==============================] - 3s 3ms/step - loss: 0.0937 - val_loss: 0.0924\n",
            "Epoch 12/20\n",
            "938/938 [==============================] - 4s 4ms/step - loss: 0.0936 - val_loss: 0.0923\n",
            "Epoch 13/20\n",
            "938/938 [==============================] - 3s 3ms/step - loss: 0.0935 - val_loss: 0.0922\n",
            "Epoch 14/20\n",
            "938/938 [==============================] - 3s 3ms/step - loss: 0.0934 - val_loss: 0.0923\n",
            "Epoch 15/20\n",
            "938/938 [==============================] - 3s 3ms/step - loss: 0.0934 - val_loss: 0.0920\n",
            "Epoch 16/20\n",
            "938/938 [==============================] - 4s 4ms/step - loss: 0.0933 - val_loss: 0.0921\n",
            "Epoch 17/20\n",
            "938/938 [==============================] - 3s 3ms/step - loss: 0.0933 - val_loss: 0.0920\n",
            "Epoch 18/20\n",
            "938/938 [==============================] - 3s 3ms/step - loss: 0.0932 - val_loss: 0.0921\n",
            "Epoch 19/20\n",
            "938/938 [==============================] - 3s 3ms/step - loss: 0.0932 - val_loss: 0.0919\n",
            "Epoch 20/20\n",
            "938/938 [==============================] - 4s 4ms/step - loss: 0.0931 - val_loss: 0.0919\n"
          ]
        },
        {
          "output_type": "execute_result",
          "data": {
            "text/plain": [
              "<keras.src.callbacks.History at 0x7e2a42e0e320>"
            ]
          },
          "metadata": {},
          "execution_count": 8
        }
      ]
    },
    {
      "cell_type": "code",
      "source": [
        "encoded_imgs = encoder.predict(x_test)\n",
        "decoded_imgs = decoder.predict(encoded_imgs)"
      ],
      "metadata": {
        "colab": {
          "base_uri": "https://localhost:8080/"
        },
        "id": "Jou07F7KyAup",
        "outputId": "17176313-d08a-4ad5-8601-a5bef5488b2d"
      },
      "execution_count": 9,
      "outputs": [
        {
          "output_type": "stream",
          "name": "stdout",
          "text": [
            "313/313 [==============================] - 0s 1ms/step\n",
            "313/313 [==============================] - 1s 2ms/step\n"
          ]
        }
      ]
    },
    {
      "cell_type": "code",
      "source": [
        "import matplotlib.pyplot as plt\n",
        "\n",
        "# Display original and reconstructed images\n",
        "n = 10  # Number of images to display\n",
        "plt.figure(figsize=(20, 4))\n",
        "for i in range(n):\n",
        "    # Original images\n",
        "    ax = plt.subplot(2, n, i + 1)\n",
        "    plt.imshow(x_test[i].reshape(28, 28))\n",
        "    plt.gray()\n",
        "    ax.get_xaxis().set_visible(False)\n",
        "    ax.get_yaxis().set_visible(False)\n",
        "\n",
        "    # Reconstructed images\n",
        "    ax = plt.subplot(2, n, i + 1 + n)\n",
        "    plt.imshow(decoded_imgs[i].reshape(28, 28))\n",
        "    plt.gray()\n",
        "    ax.get_xaxis().set_visible(False)\n",
        "    ax.get_yaxis().set_visible(False)\n",
        "plt.show()"
      ],
      "metadata": {
        "colab": {
          "base_uri": "https://localhost:8080/",
          "height": 305
        },
        "id": "n5BhN2RuznL0",
        "outputId": "ccfb6aee-8135-48e3-8461-c6d006c701e1"
      },
      "execution_count": 10,
      "outputs": [
        {
          "output_type": "display_data",
          "data": {
            "text/plain": [
              "<Figure size 2000x400 with 20 Axes>"
            ],
            "image/png": "[encoded data removed]"
          },
          "metadata": {}
        }
      ]
    },
    {
      "cell_type": "code",
      "source": [],
      "metadata": {
        "id": "EIzzYD0S06SS"
      },
      "execution_count": null,
      "outputs": []
    }
  ]
}